{
 "cells": [
  {
   "cell_type": "markdown",
   "metadata": {
    "id": "iXUK8ZXnm4My"
   },
   "source": [
    "## **학력**\n",
    "---\n",
    "- 단국대 건축공학과 졸업(3.7/4.5)\n",
    "- The University of Tokyo에서 신영역창성공학 건축음향 전공 중퇴\n",
    "- 휴먼교육센터 재학 중\n",
    "\n",
    "\n",
    "## **이력** \n",
    "---\n",
    "- 세보엠이씨 R&D로 근무\n",
    "- Weihai Vocational and Technical College에서 한국어강사로 근무\n",
    "- 평강종합상사 근무\n",
    "- 서진동물병원 실장으로 근무\n",
    "- 성현이엔시 품질관리로 근무\n",
    "\n",
    "\n",
    "\n",
    "## **자격증**\n",
    "---\n",
    "- 건축기사1급\n",
    "- JLPT1급\n",
    "- 운전면허1종\n",
    "\n",
    "\n",
    "## **프로젝트**\n",
    "---\n",
    "\n",
    "\n",
    "\n",
    "### 1.  법률퀴즈 챗봇\n",
    "- 폴더명: law-wiki\n",
    "- 기간: 2022.08.19 ~ 2022.09.02\n",
    "- 팀명: 법률위키(4명)\n",
    "- 사용언어: Python\n",
    "- 사용툴: kakao open builder, pgAdmin,Postgresql,heroku\n",
    "- 내용: 법률퀴즈를 통해 법률용어에 보다 쉽게 접근하고 몰랐던 내용을 손쉽게 법률사전을 검색하여 공부하며 랭킹시스템(점수판)으로 승부욕을 자극.\n",
    "- 최종PDF\n",
    "\n",
    "### 2.   \n",
    "\n",
    "\n",
    "\n",
    "\n"
   ]
  }
 ],
 "metadata": {
  "colab": {
   "collapsed_sections": [],
   "provenance": []
  },
  "kernelspec": {
   "display_name": "Python 3 (ipykernel)",
   "language": "python",
   "name": "python3"
  },
  "language_info": {
   "codemirror_mode": {
    "name": "ipython",
    "version": 3
   },
   "file_extension": ".py",
   "mimetype": "text/x-python",
   "name": "python",
   "nbconvert_exporter": "python",
   "pygments_lexer": "ipython3",
   "version": "3.9.12"
  }
 },
 "nbformat": 4,
 "nbformat_minor": 1
}
